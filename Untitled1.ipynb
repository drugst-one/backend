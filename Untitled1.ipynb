{
 "cells": [
  {
   "cell_type": "code",
   "execution_count": 30,
   "id": "f02bf93e",
   "metadata": {},
   "outputs": [],
   "source": [
    "from graph_tool.all import *"
   ]
  },
  {
   "cell_type": "code",
   "execution_count": 31,
   "id": "3f6e4401",
   "metadata": {},
   "outputs": [],
   "source": [
    "g = load_graph(\"data-NetExpander/Networks/internal_STRING_DrugBank.gt\")"
   ]
  },
  {
   "cell_type": "code",
   "execution_count": 32,
   "id": "7caa2dad",
   "metadata": {},
   "outputs": [
    {
     "data": {
      "text/plain": [
       "<Graph object, undirected, with 24092 vertices and 226778 edges at 0x7fd1e8732ef0>"
      ]
     },
     "execution_count": 32,
     "metadata": {},
     "output_type": "execute_result"
    }
   ],
   "source": [
    "g"
   ]
  },
  {
   "cell_type": "code",
   "execution_count": 33,
   "id": "ec03761f",
   "metadata": {},
   "outputs": [],
   "source": [
    "ids = list(g.vertex_properties[\"netex_id\"])\n"
   ]
  },
  {
   "cell_type": "code",
   "execution_count": 34,
   "id": "f7e03bff",
   "metadata": {},
   "outputs": [
    {
     "data": {
      "text/plain": [
       "24092"
      ]
     },
     "execution_count": 34,
     "metadata": {},
     "output_type": "execute_result"
    }
   ],
   "source": [
    "len(ids)"
   ]
  },
  {
   "cell_type": "code",
   "execution_count": 35,
   "id": "17b2813f",
   "metadata": {},
   "outputs": [
    {
     "data": {
      "text/plain": [
       "7601"
      ]
     },
     "execution_count": 35,
     "metadata": {},
     "output_type": "execute_result"
    }
   ],
   "source": [
    "len([x for x in ids if x.startswith('dr')])"
   ]
  },
  {
   "cell_type": "code",
   "execution_count": 36,
   "id": "4c35d260",
   "metadata": {},
   "outputs": [
    {
     "data": {
      "text/plain": [
       "16491"
      ]
     },
     "execution_count": 36,
     "metadata": {},
     "output_type": "execute_result"
    }
   ],
   "source": [
    "len([x for x in ids if x.startswith('p')])"
   ]
  },
  {
   "cell_type": "code",
   "execution_count": 39,
   "id": "bc0c6ae6",
   "metadata": {},
   "outputs": [
    {
     "data": {
      "text/plain": [
       "True"
      ]
     },
     "execution_count": 39,
     "metadata": {},
     "output_type": "execute_result"
    }
   ],
   "source": [
    "'p12627' in list(g.vertex_properties[\"netex_id\"])"
   ]
  },
  {
   "cell_type": "code",
   "execution_count": 26,
   "id": "3900f9bb",
   "metadata": {},
   "outputs": [
    {
     "name": "stderr",
     "output_type": "stream",
     "text": [
      "/Users/michi/opt/anaconda3/envs/drugstone/lib/python3.6/site-packages/urllib3/connectionpool.py:1050: InsecureRequestWarning: Unverified HTTPS request is being made to host 'drugst.one'. Adding certificate verification is strongly advised. See: https://urllib3.readthedocs.io/en/1.26.x/advanced-usage.html#ssl-warnings\n",
      "  InsecureRequestWarning,\n"
     ]
    },
    {
     "data": {
      "text/plain": [
       "[{'id': 'APOLD1',\n",
       "  'netexId': 'p30505',\n",
       "  'uniprotAc': 'Q96LR9',\n",
       "  'symbol': 'APOLD1',\n",
       "  'proteinName': 'Apolipoprotein L domain-containing protein 1',\n",
       "  'entrez': '81575',\n",
       "  'ensg': ['ENSG00000178878']}]"
      ]
     },
     "execution_count": 26,
     "metadata": {},
     "output_type": "execute_result"
    }
   ],
   "source": [
    "import requests\n",
    "import json\n",
    "\n",
    "header= { 'Content-Type': 'application/json' }\n",
    "API = 'https://drugst.one/drugstone_api/'\n",
    "response = requests.post(API+'map_nodes/', headers=header, verify=False, data=json.dumps({'nodes': [{'id': \"APOLD1\"}], 'identifier': \"symbol\"}))\n",
    "\n",
    "\n",
    "\n",
    "response.json()"
   ]
  },
  {
   "cell_type": "code",
   "execution_count": null,
   "id": "6de8ed93",
   "metadata": {},
   "outputs": [],
   "source": []
  },
  {
   "cell_type": "code",
   "execution_count": null,
   "id": "6407897a",
   "metadata": {},
   "outputs": [],
   "source": []
  },
  {
   "cell_type": "code",
   "execution_count": null,
   "id": "994c656a",
   "metadata": {},
   "outputs": [],
   "source": []
  },
  {
   "cell_type": "code",
   "execution_count": null,
   "id": "d7619c0e",
   "metadata": {},
   "outputs": [],
   "source": []
  },
  {
   "cell_type": "code",
   "execution_count": null,
   "id": "3161b301",
   "metadata": {},
   "outputs": [],
   "source": []
  }
 ],
 "metadata": {
  "kernelspec": {
   "display_name": "Python 3",
   "language": "python",
   "name": "python3"
  },
  "language_info": {
   "codemirror_mode": {
    "name": "ipython",
    "version": 3
   },
   "file_extension": ".py",
   "mimetype": "text/x-python",
   "name": "python",
   "nbconvert_exporter": "python",
   "pygments_lexer": "ipython3",
   "version": "3.6.13"
  }
 },
 "nbformat": 4,
 "nbformat_minor": 5
}
